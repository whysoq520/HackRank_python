{
 "cells": [
  {
   "cell_type": "code",
   "execution_count": null,
   "metadata": {},
   "outputs": [],
   "source": [
    "#What's Your Name? https://www.hackerrank.com/challenges/whats-your-name/problem?h_r=next-challenge&h_v=zen&h_r=next-challenge&h_v=zen\n",
    "\n",
    "You are given the firstname and lastname of a person on two different lines. Your task is to read them and print the following:\n",
    "\n",
    "Hello firstname lastname! You just delved into python.\n",
    "\n",
    "Input Format\n",
    "\n",
    "The first line contains the first name, and the second line contains the last name.\n",
    "\n",
    "Constraints\n",
    "\n",
    "The length of the first and last name ≤ .\n",
    "\n",
    "Output Format\n",
    "\n",
    "Print the output as mentioned above.\n",
    "\n",
    "Sample Input 0\n",
    "\n",
    "Ross\n",
    "Taylor\n",
    "Sample Output 0\n",
    "\n",
    "Hello Ross Taylor! You just delved into python."
   ]
  },
  {
   "cell_type": "code",
   "execution_count": null,
   "metadata": {},
   "outputs": [],
   "source": []
  },
  {
   "cell_type": "code",
   "execution_count": null,
   "metadata": {},
   "outputs": [],
   "source": [
    "print(\"The capital of {0:s} is {1:s}\".format(\"Ontario\",\"Toronto\"))\n",
    "The capital of Ontario is Toronto\n",
    "print(\"The capital of {province} is {capital}\".format(province=\"Ontario\",capital=\"Toronto\"))\n",
    "The capital of Ontario is Toronto"
   ]
  },
  {
   "cell_type": "code",
   "execution_count": null,
   "metadata": {},
   "outputs": [],
   "source": [
    "https://www.python-course.eu/python3_formatted_output.php\n",
    "The general syntax for a format placeholder is\n",
    "\n",
    "%[flags][width][.precision]type \n",
    "\n",
    "Conversion\tMeaning\n",
    "d\tSigned integer decimal.\n",
    "i\tSigned integer decimal.\n",
    "o\tUnsigned octal.\n",
    "u\tObsolete and equivalent to 'd', i.e. signed integer decimal.\n",
    "x\tUnsigned hexadecimal (lowercase).\n",
    "X\tUnsigned hexadecimal (uppercase).\n",
    "e\tFloating point exponential format (lowercase).\n",
    "E\tFloating point exponential format (uppercase).\n",
    "f\tFloating point decimal format.\n",
    "F\tFloating point decimal format.\n",
    "g\tSame as \"e\" if exponent is greater than -4 or less than precision, \"f\" otherwise.\n",
    "G\tSame as \"E\" if exponent is greater than -4 or less than precision, \"F\" otherwise.\n",
    "c\tSingle character (accepts integer or single character string).\n",
    "r\tString (converts any python object using repr()).\n",
    "s\tString (converts any python object using str()).\n",
    "%\tNo argument is converted, results in a \"%\" character in the result."
   ]
  },
  {
   "cell_type": "code",
   "execution_count": null,
   "metadata": {},
   "outputs": [],
   "source": [
    "\"%8.2f\""
   ]
  },
  {
   "cell_type": "code",
   "execution_count": null,
   "metadata": {},
   "outputs": [],
   "source": [
    "\"%5d\""
   ]
  },
  {
   "cell_type": "code",
   "execution_count": null,
   "metadata": {},
   "outputs": [],
   "source": [
    " \"%5i\""
   ]
  }
 ],
 "metadata": {
  "kernelspec": {
   "display_name": "Python 3.7.4 64-bit ('super': virtualenv)",
   "language": "python",
   "name": "python37464bitsupervirtualenve687e24a3a4141a8b6a9e2b32ae60551"
  },
  "language_info": {
   "codemirror_mode": {
    "name": "ipython",
    "version": 3
   },
   "file_extension": ".py",
   "mimetype": "text/x-python",
   "name": "python",
   "nbconvert_exporter": "python",
   "pygments_lexer": "ipython3",
   "version": "3.7.4"
  }
 },
 "nbformat": 4,
 "nbformat_minor": 2
}
